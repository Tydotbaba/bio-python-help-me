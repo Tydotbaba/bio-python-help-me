{
 "cells": [
  {
   "cell_type": "markdown",
   "metadata": {},
   "source": [
    "Frequent Words with Mismatches and Reverse Complements Problem: Find the most frequent k-mers (with mismatches and reverse complements) in a DNA string.\n",
    "      Input: A DNA string Text as well as integers k and d.\n",
    "      Output: All k-mers Pattern maximizing the sum Countd(Text, Pattern)+ Countd(Text, Pattern)\n",
    "      over all possible k-mers.\n",
    "\n",
    "Code Challenge: Solve the Frequent Words with Mismatches and Reverse Complements Problem."
   ]
  },
  {
   "cell_type": "code",
   "execution_count": 36,
   "metadata": {},
   "outputs": [
    {
     "data": {
      "text/plain": [
       "['ATGT', 'ACAT']"
      ]
     },
     "execution_count": 36,
     "metadata": {},
     "output_type": "execute_result"
    }
   ],
   "source": [
    "# Another Try: Finally worked\n",
    "import itertools\n",
    "import time\n",
    "from collections import defaultdict\n",
    "\n",
    "def FrequentWordsWithMismatchesAndReverseComplements(Genome, k, d):\n",
    "\t# start = time.process_time()\n",
    "\taprox_frq_words = []\n",
    "\tfrequencies = defaultdict(lambda: 0)\n",
    "\t# all existent kmers with d mismatches of current kmer in genome\n",
    "\tfor index in range(len(Genome) - k + 1):\n",
    "\t\tpattern = Genome[index : index + k]\n",
    "\t\tpattern_rc = reverse(pattern)\n",
    "\t\tcurr_kmer_and_neighbors = PermuteMotifDistanceTimes(pattern, d)\n",
    "\t\tcurr_kmer_and_neighbors += PermuteMotifDistanceTimes(pattern_rc, d)\n",
    "\t\tfor kmer in curr_kmer_and_neighbors:\n",
    "\t\t\tfrequencies[kmer] += 1 \n",
    "\n",
    "\tfor kmer in frequencies:\n",
    "\t\tif frequencies[kmer] == max(frequencies.values()):\n",
    "\t\t\taprox_frq_words.append(kmer)\n",
    "\t# end = time.process_time()\n",
    "\t# print(\"Time:\", end - start)\n",
    "\treturn aprox_frq_words\n",
    "\n",
    "\n",
    "def reverse(pattern):\n",
    "\tpattern_lenght = len(pattern)\n",
    "\tassert pattern_lenght > 0\n",
    "\t\n",
    "\tif pattern_lenght >= 1:\n",
    "\t\tres = ''\n",
    "\t\tfor i in range(pattern_lenght):\n",
    "\t\t\tif pattern[i] == 'A':\n",
    "\t\t\t\tres += 'T'\n",
    "\t\t\tif pattern[i] == 'T':\n",
    "\t\t\t\tres += 'A'\n",
    "\t\t\tif pattern[i] == 'C':\n",
    "\t\t\t\tres += 'G'\n",
    "\t\t\tif pattern[i] == 'G':\n",
    "\t\t\t\tres += 'C'\n",
    "\t\treturn res[::-1]\n",
    "    \n",
    "    \n",
    "def PermuteMotifOnce(motif, alphabet={\"A\", \"C\", \"G\", \"T\"}):\n",
    "\t\"\"\"\n",
    "\tGets all strings within hamming distance 1 of motif and returns it as a\n",
    "\tlist.\n",
    "\t\"\"\"\n",
    "\n",
    "\treturn list(set(itertools.chain.from_iterable([[\n",
    "\t\tmotif[:pos] + nucleotide + motif[pos + 1:] for\n",
    "\t\tnucleotide in alphabet] for\n",
    "\t\tpos in range(len(motif))])))\n",
    "\n",
    "\n",
    "def PermuteMotifDistanceTimes(motif, d):\n",
    "\tworkingSet = {motif}\n",
    "\tfor _ in range(d):\n",
    "\t\tworkingSet = set(itertools.chain.from_iterable(map(PermuteMotifOnce, workingSet)))\n",
    "\treturn list(workingSet)\n",
    "\n",
    "\n",
    "\n",
    "# change your code below this line\n",
    "text = 'AAGCAAAGGTGGG'\n",
    "k = 4\n",
    "d = 1\n",
    "\n",
    "# # change your code above this line\n",
    "\n",
    "FrequentWordsWithMismatchesAndReverseComplements(Text, k, d)\n"
   ]
  },
  {
   "cell_type": "markdown",
   "metadata": {},
   "source": [
    "Frequent Words with Mismatches Problem: Find the most frequent k-mers with mismatches in a string.\n",
    "     Input: A string Text as well as integers k and d. (You may assume k ≤ 12 and d ≤ 3.)\n",
    "     Output: All most frequent k-mers with up to d mismatches in Text.\n",
    "\n",
    "Code Challenge: Solve the Frequent Words with Mismatches Problem."
   ]
  },
  {
   "cell_type": "code",
   "execution_count": 39,
   "metadata": {},
   "outputs": [
    {
     "data": {
      "text/plain": [
       "['ATGT', 'GATG', 'ATGC']"
      ]
     },
     "execution_count": 39,
     "metadata": {},
     "output_type": "execute_result"
    }
   ],
   "source": [
    "import itertools\n",
    "from collections import defaultdict\n",
    "\n",
    "def FrequentWordsWithMismatches(Genome, k, d):\n",
    "    start = time.process_time()\n",
    "    aprox_frq_words = []\n",
    "    frequencies = defaultdict(lambda: 0)\n",
    "    # all existent kmers with d mismatches of current kmer in genome\n",
    "    for index in range(len(Genome) - k + 1):\n",
    "        curr_kmer_and_neighbors = PermuteMotifDistanceTimes(Genome[index : index + k], d)\n",
    "        for kmer in curr_kmer_and_neighbors:\n",
    "            frequencies[kmer] += 1 \n",
    "\n",
    "    for kmer in frequencies:\n",
    "        if frequencies[kmer] == max(frequencies.values()):\n",
    "            aprox_frq_words.append(kmer)\n",
    "    #end = time.process_time()\n",
    "    #print(\"Time:\", end - start)\n",
    "    return aprox_frq_words\n",
    "\n",
    "\n",
    "def PermuteMotifOnce(motif, alphabet={\"A\", \"C\", \"G\", \"T\"}):\n",
    "    \"\"\"\n",
    "    Gets all strings within hamming distance 1 of motif and returns it as a\n",
    "    list.\n",
    "    \"\"\"\n",
    "\n",
    "    return list(set(itertools.chain.from_iterable([[\n",
    "        motif[:pos] + nucleotide + motif[pos + 1:] for\n",
    "        nucleotide in alphabet] for\n",
    "        pos in range(len(motif))])))\n",
    "\n",
    "\n",
    "def PermuteMotifDistanceTimes(motif, d):\n",
    "    workingSet = {motif}\n",
    "    for _ in range(d):\n",
    "        workingSet = set(itertools.chain.from_iterable(map(PermuteMotifOnce, workingSet)))\n",
    "    return list(workingSet)\n",
    "\n",
    "\n",
    "# change your code below this line\n",
    "text = 'AAGCAAAGGTGGG'\n",
    "k = 4\n",
    "d = 1\n",
    "\n",
    "# # change your code above this line\n",
    "\n",
    "FrequentWordsWithMismatches(Text, k, d)"
   ]
  }
 ],
 "metadata": {
  "kernelspec": {
   "display_name": "Python 3",
   "language": "python",
   "name": "python3"
  },
  "language_info": {
   "codemirror_mode": {
    "name": "ipython",
    "version": 3
   },
   "file_extension": ".py",
   "mimetype": "text/x-python",
   "name": "python",
   "nbconvert_exporter": "python",
   "pygments_lexer": "ipython3",
   "version": "3.7.6"
  }
 },
 "nbformat": 4,
 "nbformat_minor": 4
}
