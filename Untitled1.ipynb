{
 "cells": [
  {
   "cell_type": "markdown",
   "metadata": {},
   "source": [
    "# Question 1\n",
    "Code Challenge: Solve the Clump Finding Problem (restated below).\n",
    "\n",
    "Clump Finding Problem: Find patterns forming clumps in a string.\n",
    "     Input: A string Genome, and integers k, L, and t.\n",
    "     Output: All distinct k-mers forming (L, t)-clumps in Genome.\n",
    "     \n",
    "### Sample Input:\n",
    "\n",
    "CGGACTCGACAGATGTGAAGAACGACAATGTGAAGACTCGACACGACAGAGTGAAGAGAAGAGGAAACATTGTAA\n",
    "5 50 4\n",
    "\n",
    "### Sample Output:\n",
    "\n",
    "CGACA GAAGA"
   ]
  },
  {
   "cell_type": "code",
   "execution_count": 3,
   "metadata": {},
   "outputs": [
    {
     "data": {
      "text/plain": [
       "'1 2 3 4 5'"
      ]
     },
     "execution_count": 3,
     "metadata": {},
     "output_type": "execute_result"
    }
   ],
   "source": [
    "l = ['1','2','3','4','5']\n",
    "str1 = ' '\n",
    "str1.join(l)"
   ]
  },
  {
   "cell_type": "code",
   "execution_count": 5,
   "metadata": {},
   "outputs": [
    {
     "name": "stdout",
     "output_type": "stream",
     "text": [
      "The boy\n"
     ]
    }
   ],
   "source": [
    "with open('vibro_cholerae.txt') as f:\n",
    "    genome = f.read()\n",
    "print(genome)"
   ]
  }
 ],
 "metadata": {
  "kernelspec": {
   "display_name": "Python 3",
   "language": "python",
   "name": "python3"
  },
  "language_info": {
   "codemirror_mode": {
    "name": "ipython",
    "version": 3
   },
   "file_extension": ".py",
   "mimetype": "text/x-python",
   "name": "python",
   "nbconvert_exporter": "python",
   "pygments_lexer": "ipython3",
   "version": "3.7.6"
  }
 },
 "nbformat": 4,
 "nbformat_minor": 4
}
